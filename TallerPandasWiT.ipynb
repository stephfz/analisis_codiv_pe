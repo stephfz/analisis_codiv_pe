{
  "nbformat": 4,
  "nbformat_minor": 0,
  "metadata": {
    "colab": {
      "name": "TallerPandasWiT.ipynb",
      "provenance": [],
      "collapsed_sections": [],
      "toc_visible": true,
      "authorship_tag": "ABX9TyPFwXHLVlG3jedHqUkAICCZ",
      "include_colab_link": true
    },
    "kernelspec": {
      "name": "python3",
      "display_name": "Python 3"
    }
  },
  "cells": [
    {
      "cell_type": "markdown",
      "metadata": {
        "id": "view-in-github",
        "colab_type": "text"
      },
      "source": [
        "<a href=\"https://colab.research.google.com/github/stephfz/analisis_codiv_pe/blob/master/TallerPandasWiT.ipynb\" target=\"_parent\"><img src=\"https://colab.research.google.com/assets/colab-badge.svg\" alt=\"Open In Colab\"/></a>"
      ]
    },
    {
      "cell_type": "markdown",
      "metadata": {
        "id": "M8yV-47l-PPd",
        "colab_type": "text"
      },
      "source": [
        "# Introducción\n",
        "¿Qué es Pandas? Es la librería de Python para el Análisis de Datos o Python Data Analysis Library\n",
        "\n",
        "Para la sesión de hoy usaremos el dataset de [Datos Abiertos de Covid-19](https://www.datosabiertos.gob.pe/group/datos-abiertos-de-covid-19)"
      ]
    },
    {
      "cell_type": "markdown",
      "metadata": {
        "id": "YvLOa-ppha5T",
        "colab_type": "text"
      },
      "source": [
        "# Dataset: Casos Positivos"
      ]
    },
    {
      "cell_type": "code",
      "metadata": {
        "id": "rAMvY9s2HYNX",
        "colab_type": "code",
        "colab": {}
      },
      "source": [
        "import pandas as pd\n",
        "import requests\n",
        "import io \n",
        "\n",
        "url = 'https://raw.githubusercontent.com/stephfz/analisis_codiv_pe/master/datos/positivos_covid.csv'\n",
        "s = requests.get(url).content\n",
        "\n",
        "# creamos una variable que se convertira en el contenedor de la data = dataframe\n",
        "casos_positivos_df = pd.read_csv(io.StringIO(s.decode('latin1')))\n",
        "\n",
        "casos_positivos_df.head(5)"
      ],
      "execution_count": 0,
      "outputs": []
    },
    {
      "cell_type": "code",
      "metadata": {
        "id": "3K6BzqmaHge0",
        "colab_type": "code",
        "colab": {}
      },
      "source": [
        "## Dimension del dataframe\n",
        "casos_positivos_df.shape"
      ],
      "execution_count": 0,
      "outputs": []
    },
    {
      "cell_type": "code",
      "metadata": {
        "id": "FMPmZ6f5HsIs",
        "colab_type": "code",
        "colab": {}
      },
      "source": [
        "## Revisión rápida de los tipos de cada columna \n",
        "## qué tipos de datos tiene pandas? https://pbpython.com/pandas_dtypes.html\n",
        "casos_positivos_df.dtypes"
      ],
      "execution_count": 0,
      "outputs": []
    },
    {
      "cell_type": "code",
      "metadata": {
        "id": "7JIdKRI0Ayoq",
        "colab_type": "code",
        "colab": {}
      },
      "source": [
        "## Listemos las columnas del dataframe\n",
        "casos_positivos_df.columns"
      ],
      "execution_count": 0,
      "outputs": []
    },
    {
      "cell_type": "code",
      "metadata": {
        "id": "4f4N_ge6K3kM",
        "colab_type": "code",
        "colab": {}
      },
      "source": [
        "## Veamos la cantidad de valores nulos por columna del dataframe\n",
        "columns = casos_positivos_df.columns.tolist()\n",
        "for column in columns:\n",
        "  print('Valores nulos para la columna <{0}> : {1}'.format(column, casos_positivos_df[column].isnull().sum()))"
      ],
      "execution_count": 0,
      "outputs": []
    },
    {
      "cell_type": "code",
      "metadata": {
        "id": "ALjYJhazRQHk",
        "colab_type": "code",
        "colab": {}
      },
      "source": [
        "casos_positivos_df.DEPARTAMENTO.unique()"
      ],
      "execution_count": 0,
      "outputs": []
    },
    {
      "cell_type": "code",
      "metadata": {
        "id": "QuthdkxCHlwB",
        "colab_type": "code",
        "colab": {}
      },
      "source": [
        "## Revisemos cuantos departamento estan contenidos en el dataframe\n",
        "len(casos_positivos_df.DEPARTAMENTO.unique())"
      ],
      "execution_count": 0,
      "outputs": []
    },
    {
      "cell_type": "code",
      "metadata": {
        "id": "NHH_eaxsAYtM",
        "colab_type": "code",
        "colab": {}
      },
      "source": [
        "## Revisemos unas cuantos registro del departamento de PUNO\n",
        "casos_positivos_df[casos_positivos_df.DEPARTAMENTO == 'PUNO'].head(5)"
      ],
      "execution_count": 0,
      "outputs": []
    },
    {
      "cell_type": "code",
      "metadata": {
        "id": "GM3rHdH4I1BI",
        "colab_type": "code",
        "colab": {}
      },
      "source": [
        "## Veamos los resultados por Sexo y Edad\n",
        "pd.crosstab(casos_positivos_df.DEPARTAMENTO, casos_positivos_df.SEXO)"
      ],
      "execution_count": 0,
      "outputs": []
    },
    {
      "cell_type": "code",
      "metadata": {
        "id": "5ZxOjiE1HvGK",
        "colab_type": "code",
        "colab": {}
      },
      "source": [
        "# Para poder hacer un analisis sobre las edades es mejor definir rangos de edades\n",
        "#rango_edades = {\"A\" : 16, \"B\": 31, \"C\": 51, \"D\": 70}  #, \"E\" >70 }\n",
        "rango_edades = {\"D\" : 70, \"C\": 51, \"B\": 31, \"A\": 16} \n",
        "for rango in rango_edades:\n",
        "  print(rango)"
      ],
      "execution_count": 0,
      "outputs": []
    },
    {
      "cell_type": "code",
      "metadata": {
        "id": "zcQ0jtOzH8vl",
        "colab_type": "code",
        "colab": {}
      },
      "source": [
        "## Agregamos una columna para la definicion de rangos de edad\n",
        "import numpy as np\n",
        "casos_positivos_df[\"RangoEdad\"] = np.nan\n",
        "#casos_positivos_df['RangoEdad'].count()"
      ],
      "execution_count": 0,
      "outputs": []
    },
    {
      "cell_type": "code",
      "metadata": {
        "id": "IYMjHC0yIEUw",
        "colab_type": "code",
        "colab": {}
      },
      "source": [
        "## Iteramos sobre el dataframe y empezamos a guardar el rango de edad por registro\n",
        "for rango in rango_edades:\n",
        "  casos_positivos_df['RangoEdad'] = np.where(casos_positivos_df['EDAD'] < rango_edades[rango], rango, casos_positivos_df['RangoEdad'] )\n",
        "\n",
        "casos_positivos_df['RangoEdad'].head()"
      ],
      "execution_count": 0,
      "outputs": []
    },
    {
      "cell_type": "code",
      "metadata": {
        "id": "yILSE_ZMIgDp",
        "colab_type": "code",
        "colab": {}
      },
      "source": [
        "## Verificamos que los cambios hayan sido aplicados\n",
        "casos_positivos_df.head(20)"
      ],
      "execution_count": 0,
      "outputs": []
    },
    {
      "cell_type": "code",
      "metadata": {
        "id": "qQEN8XJXIi3V",
        "colab_type": "code",
        "colab": {}
      },
      "source": [
        "## Aplicamos la conversion del ultima tramo de rango de edades\n",
        "casos_positivos_df['RangoEdad'] = np.where(casos_positivos_df['EDAD']>=70, \"E\", casos_positivos_df['RangoEdad'] )\n",
        "casos_positivos_df.head(5)"
      ],
      "execution_count": 0,
      "outputs": []
    },
    {
      "cell_type": "code",
      "metadata": {
        "id": "X3YCGlHVInqW",
        "colab_type": "code",
        "colab": {}
      },
      "source": [
        "## Verificamos si hay valores nulos en la edad\n",
        "casos_positivos_df[casos_positivos_df.RangoEdad == 'nan']"
      ],
      "execution_count": 0,
      "outputs": []
    },
    {
      "cell_type": "code",
      "metadata": {
        "id": "mJD3b6PaI9BH",
        "colab_type": "code",
        "colab": {}
      },
      "source": [
        "## Hagamos una \"tabla cruzada\" por Departamento y Rango de Edad\n",
        "pd.crosstab(casos_positivos_df.DEPARTAMENTO, casos_positivos_df.RangoEdad)"
      ],
      "execution_count": 0,
      "outputs": []
    },
    {
      "cell_type": "code",
      "metadata": {
        "id": "qw3nvl-fQApf",
        "colab_type": "code",
        "colab": {}
      },
      "source": [
        "## Veamos la lista de Departamentos en el dataframe\n",
        "departamentos = casos_positivos_df.DEPARTAMENTO.unique()\n",
        "for d in departamentos:\n",
        "  print(d)"
      ],
      "execution_count": 0,
      "outputs": []
    },
    {
      "cell_type": "code",
      "metadata": {
        "id": "750-EfrsQOEx",
        "colab_type": "code",
        "colab": {}
      },
      "source": [
        "## Hagamos una iteracion por departamento y ver la distribucion de infectados\n",
        "## por RangoEdad y Sexo\n",
        "departamentos = casos_positivos_df.DEPARTAMENTO.unique()\n",
        "for d in departamentos:\n",
        "  df_temp = casos_positivos_df[casos_positivos_df.DEPARTAMENTO == d]\n",
        "  print(\"*--------- {} ---------*\".format(d))\n",
        "  print(pd.crosstab(df_temp.SEXO, casos_positivos_df.RangoEdad))\n",
        "  print(\"\\n\")"
      ],
      "execution_count": 0,
      "outputs": []
    },
    {
      "cell_type": "code",
      "metadata": {
        "id": "YTqbbHKIQ39l",
        "colab_type": "code",
        "colab": {}
      },
      "source": [
        "## Hagamos un intento de visualizacion\n",
        "\n",
        "import matplotlib.pyplot as plt\n",
        "\n",
        "cs_femenino = casos_positivos_df[casos_positivos_df.SEXO == 'FEMENINO']\n",
        "cs_masculino = casos_positivos_df[casos_positivos_df.SEXO == 'MASCULINO']\n",
        "cs_masculino = cs_masculino.dropna(subset =['EDAD'])\n",
        "cs_femenino = cs_femenino.dropna(subset =['EDAD'])\n",
        "\n",
        "fig = plt.figure(figsize=(30,15)) #creamos un canvas o figura de 30x10 pixeles\n",
        "\n",
        "# queremos ver un plot al costado del otro, para esto pensemos en una grilla (celdas)\n",
        "plt.subplot2grid((2,3),(0,0))\n",
        "cs_femenino.RangoEdad.value_counts().plot(kind='bar', alpha=0.5)\n",
        "plt.title('- Totales RangoEdad - FEMENINO')\n",
        "\n",
        "plt.subplot2grid((2,3),(0,1))\n",
        "cs_masculino.RangoEdad.value_counts().plot(kind='bar', alpha=0.5)\n",
        "plt.title('- Totales RangoEdad - MASCULINO')\n",
        "\n",
        "plt.subplot2grid((2,3),(1,0))\n",
        "cs_femenino.RangoEdad.value_counts(normalize = True).plot(kind='bar', alpha=0.5)\n",
        "plt.title('porcentaje total - FEMENINO')\n",
        "\n",
        "plt.subplot2grid((2,3),(1,1))\n",
        "cs_masculino.RangoEdad.value_counts(normalize = True).plot(kind='bar', alpha=0.5)\n",
        "plt.title('porcentaje total - MASCULINO')\n",
        "\n",
        "plt.show()"
      ],
      "execution_count": 0,
      "outputs": []
    },
    {
      "cell_type": "markdown",
      "metadata": {
        "id": "hE4-m7ZacJD2",
        "colab_type": "text"
      },
      "source": [
        "# Dataset: Fallecidos por covid"
      ]
    },
    {
      "cell_type": "code",
      "metadata": {
        "id": "FGchwL2hay28",
        "colab_type": "code",
        "colab": {}
      },
      "source": [
        "\n",
        "url = 'https://raw.githubusercontent.com/stephfz/analisis_codiv_pe/master/datos/fallecidos_covid.csv'\n",
        "s = requests.get(url).content\n",
        "\n",
        "fallecidos_covid_df = pd.read_csv(io.StringIO(s.decode('latin1')))\n",
        "\n",
        "fallecidos_covid_df.head(5)"
      ],
      "execution_count": 0,
      "outputs": []
    },
    {
      "cell_type": "code",
      "metadata": {
        "id": "OFUh5lFZcxUT",
        "colab_type": "code",
        "colab": {}
      },
      "source": [
        "## Dimensiones de Dataset\n",
        "fallecidos_covid_df.shape"
      ],
      "execution_count": 0,
      "outputs": []
    },
    {
      "cell_type": "code",
      "metadata": {
        "id": "20cb6FFrcg42",
        "colab_type": "code",
        "colab": {}
      },
      "source": [
        "## Valores nulos por columna del dataset\n",
        "columns = fallecidos_covid_df.columns.tolist()\n",
        "for column in columns:\n",
        "  print('Valores nulos para la columna <{0}> : {1}'.format(column, fallecidos_covid_df[column].isnull().sum()))"
      ],
      "execution_count": 0,
      "outputs": []
    },
    {
      "cell_type": "code",
      "metadata": {
        "id": "HpqH5MCPeGwP",
        "colab_type": "code",
        "colab": {}
      },
      "source": [
        "## Veamos como obtener la cuenta de fallecidos por departamento\n",
        "\n",
        "#fallecidos_covid_df.groupby('DEPARTAMENTO').count()\n",
        "fallecidos_covid_df.groupby(['DEPARTAMENTO'])['EDAD_DECLARADA'].count().sort_values(ascending=False)"
      ],
      "execution_count": 0,
      "outputs": []
    },
    {
      "cell_type": "code",
      "metadata": {
        "id": "m7YLPKJng3ND",
        "colab_type": "code",
        "colab": {}
      },
      "source": [
        "## Veamos algunos indicadores estadisticos del dataframe\n",
        "fallecidos_covid_df.describe()"
      ],
      "execution_count": 0,
      "outputs": []
    },
    {
      "cell_type": "code",
      "metadata": {
        "id": "fuI6m9WBfHRA",
        "colab_type": "code",
        "colab": {}
      },
      "source": [
        "rango_edades = {\"D\" : 70, \"C\": 51, \"B\": 31, \"A\": 16} \n",
        "for rango in rango_edades:\n",
        "  print(rango)"
      ],
      "execution_count": 0,
      "outputs": []
    },
    {
      "cell_type": "code",
      "metadata": {
        "id": "DrLYZBLulPxW",
        "colab_type": "code",
        "colab": {}
      },
      "source": [
        "fallecidos_covid_df.head(5)"
      ],
      "execution_count": 0,
      "outputs": []
    },
    {
      "cell_type": "code",
      "metadata": {
        "id": "iLluY96SktiN",
        "colab_type": "code",
        "colab": {}
      },
      "source": [
        "## Agregamos una columna para la definicion de rangos de edad\n",
        "import numpy as np\n",
        "fallecidos_covid_df[\"RangoEdad\"] = np.nan\n",
        "#casos_positivos_df['RangoEdad'].count()"
      ],
      "execution_count": 0,
      "outputs": []
    },
    {
      "cell_type": "code",
      "metadata": {
        "id": "ihMurWE3kyLW",
        "colab_type": "code",
        "colab": {}
      },
      "source": [
        "## Iteramos sobre el dataframe y empezamos a guardar el rango de edad por registro\n",
        "for rango in rango_edades:\n",
        "  fallecidos_covid_df['RangoEdad'] = np.where(fallecidos_covid_df['EDAD_DECLARADA'] < rango_edades[rango], rango, fallecidos_covid_df['RangoEdad'] )\n",
        "\n",
        "\n",
        "fallecidos_covid_df['RangoEdad'].head()"
      ],
      "execution_count": 0,
      "outputs": []
    },
    {
      "cell_type": "code",
      "metadata": {
        "id": "bUWmbjBKkyj2",
        "colab_type": "code",
        "colab": {}
      },
      "source": [
        "## Transformamos el ultimo rango de edad en el dataframe\n",
        "fallecidos_covid_df['RangoEdad'] = np.where(fallecidos_covid_df['EDAD_DECLARADA']>=70, \"E\", fallecidos_covid_df['RangoEdad'] )\n",
        "fallecidos_covid_df.head(5)"
      ],
      "execution_count": 0,
      "outputs": []
    },
    {
      "cell_type": "code",
      "metadata": {
        "id": "Zx3dyBATlcYX",
        "colab_type": "code",
        "colab": {}
      },
      "source": [
        "## Veamos la agrupacion de Fallecidos por Edad en cada Departamento\n",
        "pd.crosstab(fallecidos_covid_df.DEPARTAMENTO, fallecidos_covid_df.RangoEdad)"
      ],
      "execution_count": 0,
      "outputs": []
    },
    {
      "cell_type": "code",
      "metadata": {
        "id": "jf--MH-mlmiB",
        "colab_type": "code",
        "colab": {}
      },
      "source": [
        "## Veamos la cantidad de fallecidos por Rango de Edad\n",
        "fallecidos_covid_df.groupby(['RangoEdad'])['EDAD_DECLARADA'].count().sort_values(ascending=False)"
      ],
      "execution_count": 0,
      "outputs": []
    },
    {
      "cell_type": "code",
      "metadata": {
        "id": "BZ-Nuipyyl8M",
        "colab_type": "code",
        "colab": {}
      },
      "source": [
        "## Veamos la agrupacion de fallecidos por Sexo\n",
        "pd.crosstab(fallecidos_covid_df.DEPARTAMENTO, fallecidos_covid_df.SEXO)"
      ],
      "execution_count": 0,
      "outputs": []
    },
    {
      "cell_type": "code",
      "metadata": {
        "id": "FSmJg8DIyyOD",
        "colab_type": "code",
        "colab": {}
      },
      "source": [
        "## Veamos la agrupacion de fallecidos por Sexo y Rango de Edad\n",
        "pd.crosstab(fallecidos_covid_df.SEXO, fallecidos_covid_df.RangoEdad)"
      ],
      "execution_count": 0,
      "outputs": []
    },
    {
      "cell_type": "code",
      "metadata": {
        "id": "0fSJCixYzARE",
        "colab_type": "code",
        "colab": {}
      },
      "source": [
        "# #¿Cúantos fallecidxs hay por sexo en cada departamento?\n",
        "pd.crosstab(fallecidos_covid_df.DEPARTAMENTO, fallecidos_covid_df.SEXO)"
      ],
      "execution_count": 0,
      "outputs": []
    },
    {
      "cell_type": "code",
      "metadata": {
        "id": "Xi-XdlmLexhV",
        "colab_type": "code",
        "colab": {}
      },
      "source": [
        "fallecidos_covid_df.shape[0] / casos_positivos_df.shape[0] "
      ],
      "execution_count": 0,
      "outputs": []
    },
    {
      "cell_type": "markdown",
      "metadata": {
        "id": "sc2krGPEAA28",
        "colab_type": "text"
      },
      "source": [
        "# Dataset: Contratación directa"
      ]
    },
    {
      "cell_type": "code",
      "metadata": {
        "id": "h-YR7Juh7aM3",
        "colab_type": "code",
        "colab": {}
      },
      "source": [
        "import pandas as pd\n",
        "import requests\n",
        "import io \n",
        "url = 'https://raw.githubusercontent.com/stephfz/analisis_codiv_pe/master/datos/contrataciones_directas.csv'\n",
        "s=requests.get(url).content\n",
        "\n",
        "contratacion_df = pd.read_csv(io.StringIO(s.decode('latin1')))\n",
        "contratacion_df.tail(3)"
      ],
      "execution_count": 0,
      "outputs": []
    },
    {
      "cell_type": "code",
      "metadata": {
        "id": "3ynStfhUSXle",
        "colab_type": "code",
        "colab": {}
      },
      "source": [
        "## Veamos la dimension del dataset de contraciones\n",
        "contratacion_df.shape"
      ],
      "execution_count": 0,
      "outputs": []
    },
    {
      "cell_type": "code",
      "metadata": {
        "id": "J2Oqbwsa0MW3",
        "colab_type": "code",
        "colab": {}
      },
      "source": [
        "## Obtengamos la lista de columnas.\n",
        "contratacion_columns = contratacion_df.columns.tolist()\n",
        "contratacion_columns"
      ],
      "execution_count": 0,
      "outputs": []
    },
    {
      "cell_type": "code",
      "metadata": {
        "id": "dp5pScfYOiyp",
        "colab_type": "code",
        "colab": {}
      },
      "source": [
        "## Veamos con que tipo de datos contamos\n",
        "contratacion_df.dtypes"
      ],
      "execution_count": 0,
      "outputs": []
    },
    {
      "cell_type": "code",
      "metadata": {
        "id": "zyqVjdvNC6z_",
        "colab_type": "code",
        "colab": {}
      },
      "source": [
        "## Cuantos RUCPROVEEDOR unicos hay en el dataset \n",
        "len(contratacion_df.RUCPROVEEDOR.unique())"
      ],
      "execution_count": 0,
      "outputs": []
    },
    {
      "cell_type": "code",
      "metadata": {
        "id": "rJUusZBKQvnd",
        "colab_type": "code",
        "colab": {}
      },
      "source": [
        "## La columna RUCPROVEEDOR es de tipo de dato int64 lo cual no tiene mucho sentido, hagamos una conversion a string\n",
        "contratacion_df['RUCPROVEEDOR'] = contratacion_df['RUCPROVEEDOR'].astype(str)"
      ],
      "execution_count": 0,
      "outputs": []
    },
    {
      "cell_type": "code",
      "metadata": {
        "id": "3w7Wpz3ESrzQ",
        "colab_type": "code",
        "colab": {}
      },
      "source": [
        "## Veamos el ranking de proveedores\n",
        "contratacion_df['RUCPROVEEDOR'].value_counts(sort=True, ascending=False)"
      ],
      "execution_count": 0,
      "outputs": []
    },
    {
      "cell_type": "code",
      "metadata": {
        "id": "Il1tkm0lFcXq",
        "colab_type": "code",
        "colab": {}
      },
      "source": [
        "## Veamos los registros con RUCPROVEEDOR con mayor contrataciones\n",
        "contratacion_df[contratacion_df['RUCPROVEEDOR'] == '20602777279' ]"
      ],
      "execution_count": 0,
      "outputs": []
    },
    {
      "cell_type": "code",
      "metadata": {
        "id": "Xac1Ffng0eZY",
        "colab_type": "code",
        "colab": {}
      },
      "source": [
        "## Veamos el monto adjudicado en soles por departamento, pero antes..\n",
        "\n",
        "## veamos con que tipo de datos contamos\n",
        "contratacion_df.dtypes"
      ],
      "execution_count": 0,
      "outputs": []
    },
    {
      "cell_type": "code",
      "metadata": {
        "id": "3c-N2MzThP57",
        "colab_type": "code",
        "colab": {}
      },
      "source": [
        "contratacion_df['MONTOADJUDICADOSOLES'].head(10)"
      ],
      "execution_count": 0,
      "outputs": []
    },
    {
      "cell_type": "code",
      "metadata": {
        "id": "XA_PPc2a0-l9",
        "colab_type": "code",
        "colab": {}
      },
      "source": [
        "## Reemplazamos el ',' por '.' para poder parsear los valores como numeros flotantes\n",
        "contratacion_df['MONTOADJUDICADOSOLES'] = contratacion_df['MONTOADJUDICADOSOLES'].str.replace(',','.')"
      ],
      "execution_count": 0,
      "outputs": []
    },
    {
      "cell_type": "code",
      "metadata": {
        "id": "D8gRrHkL0tDo",
        "colab_type": "code",
        "colab": {}
      },
      "source": [
        "## Convertimos la cadena a numero float\n",
        "contratacion_df['MONTOADJUDICADOSOLES'] = contratacion_df['MONTOADJUDICADOSOLES'].astype(float)"
      ],
      "execution_count": 0,
      "outputs": []
    },
    {
      "cell_type": "code",
      "metadata": {
        "id": "wmMUCadKGSuv",
        "colab_type": "code",
        "colab": {}
      },
      "source": [
        "## Agrupamos para ver los montos por departamentos\n",
        "#contratacion_df.groupby(['ENTIDAD_DEPARTAMENTO'])['MONTOADJUDICADOSOLES'].sum()\n",
        "\n",
        "# funciones anonimas en python: lambda\n",
        "contratacion_df.groupby(['ENTIDAD_DEPARTAMENTO'])['MONTOADJUDICADOSOLES'].sum().apply(lambda x: \"{:,.1f}k\".format((x/1000)))"
      ],
      "execution_count": 0,
      "outputs": []
    },
    {
      "cell_type": "code",
      "metadata": {
        "id": "zhwMuqKGVfsX",
        "colab_type": "code",
        "colab": {}
      },
      "source": [
        "## ¿Cual es el monto total del proveedor con mas adjudicaciones? \n",
        "monto = contratacion_df[contratacion_df['RUCPROVEEDOR'] == '20602777279' ]['MONTOADJUDICADOSOLES'].sum()\n",
        "print ( \"{:,.1f}\".format((monto)))"
      ],
      "execution_count": 0,
      "outputs": []
    },
    {
      "cell_type": "markdown",
      "metadata": {
        "id": "MORYd2Ky-MbO",
        "colab_type": "text"
      },
      "source": [
        "# Cruzando datos de diferentes datasets"
      ]
    },
    {
      "cell_type": "markdown",
      "metadata": {
        "id": "b5bHg-ajYEXF",
        "colab_type": "text"
      },
      "source": [
        "| DEPARTAMENTO | SEXO | EDAD | INFECTADO O FALLECIDO | RANGOEDAD"
      ]
    },
    {
      "cell_type": "code",
      "metadata": {
        "id": "_En9R6s-Xwts",
        "colab_type": "code",
        "colab": {}
      },
      "source": [
        "## Repasemos los datos que tenemos\n",
        "casos_positivos_df.head(5)"
      ],
      "execution_count": 0,
      "outputs": []
    },
    {
      "cell_type": "code",
      "metadata": {
        "id": "uuL242j3Ypqh",
        "colab_type": "code",
        "colab": {}
      },
      "source": [
        "fallecidos_covid_df.head(5)"
      ],
      "execution_count": 0,
      "outputs": []
    },
    {
      "cell_type": "code",
      "metadata": {
        "id": "RqVjhOMEcYf1",
        "colab_type": "code",
        "colab": {}
      },
      "source": [
        "## Creamos un subset de los datos de casos positivos\n",
        "positivos = casos_positivos_df[['DEPARTAMENTO', 'SEXO', 'EDAD', 'RangoEdad']]\n",
        "## Agrego una columna para el estado de la persona I : Infectado\n",
        "import numpy as np\n",
        "positivos[\"ESTADO\"] = \"I\"\n",
        "positivos.head()"
      ],
      "execution_count": 0,
      "outputs": []
    },
    {
      "cell_type": "code",
      "metadata": {
        "id": "dnjS3OM_dCax",
        "colab_type": "code",
        "colab": {}
      },
      "source": [
        "fallecidos_covid_df.columns"
      ],
      "execution_count": 0,
      "outputs": []
    },
    {
      "cell_type": "code",
      "metadata": {
        "id": "BnwWkXV3dWLC",
        "colab_type": "code",
        "colab": {}
      },
      "source": [
        "## Creamos un subset de los datos de los fallecidos\n",
        "fallecidos = fallecidos_covid_df[['DEPARTAMENTO', 'EDAD_DECLARADA', 'SEXO','RangoEdad']]\n",
        "## Agrego una columna para el estado de la persona F : Fallecido\n",
        "import numpy as np\n",
        "fallecidos[\"ESTADO\"] = \"F\"\n",
        "fallecidos.head()"
      ],
      "execution_count": 0,
      "outputs": []
    },
    {
      "cell_type": "code",
      "metadata": {
        "id": "SCTKAUONdikU",
        "colab_type": "code",
        "colab": {}
      },
      "source": [
        "## Renombramos las columnas para que los nombres concuerden entre los 2 datasets\n",
        "fallecidos = fallecidos.rename(columns={\"EDAD_DECLARADA\": \"EDAD\"})\n",
        "fallecidos.head(5)"
      ],
      "execution_count": 0,
      "outputs": []
    },
    {
      "cell_type": "code",
      "metadata": {
        "id": "gtjI-czKdx2m",
        "colab_type": "code",
        "colab": {}
      },
      "source": [
        "## Concatenamos los dos dataset para tener un total por departamento y estado (Fallecido, Infectado)\n",
        "frames = [fallecidos,positivos]\n",
        "total = pd.concat(frames)\n",
        "total.tail(10)"
      ],
      "execution_count": 0,
      "outputs": []
    },
    {
      "cell_type": "code",
      "metadata": {
        "id": "zbEIJ2Q0eb78",
        "colab_type": "code",
        "colab": {}
      },
      "source": [
        "## Veamos los datos de Infectados y Fallecidos por Departamento\n",
        "pd.crosstab(total.DEPARTAMENTO, total.ESTADO).sort_values('F', ascending = False)"
      ],
      "execution_count": 0,
      "outputs": []
    },
    {
      "cell_type": "code",
      "metadata": {
        "id": "ny-v0cpUhfJ_",
        "colab_type": "code",
        "colab": {}
      },
      "source": [
        "total.head(10)"
      ],
      "execution_count": 0,
      "outputs": []
    },
    {
      "cell_type": "code",
      "metadata": {
        "id": "FjBqMQSfe-sF",
        "colab_type": "code",
        "colab": {}
      },
      "source": [
        "femenino = total[total['SEXO']=='FEMENINO']\n",
        "\n",
        "#pd.crosstab(femenino.DEPARTAMENTO, femenino.ESTADO).sort_values('F', ascending = False)\n",
        "pd.crosstab(femenino.ESTADO, femenino.DEPARTAMENTO)"
      ],
      "execution_count": 0,
      "outputs": []
    },
    {
      "cell_type": "code",
      "metadata": {
        "id": "T0RLJYDOjKPc",
        "colab_type": "code",
        "colab": {}
      },
      "source": [
        "masculino = total[total['SEXO']=='MASCULINO']\n",
        "#pd.crosstab(masculino.DEPARTAMENTO, masculino.ESTADO).sort_values('F', ascending = False)\n",
        "pd.crosstab(masculino.ESTADO, masculino.DEPARTAMENTO)"
      ],
      "execution_count": 0,
      "outputs": []
    },
    {
      "cell_type": "code",
      "metadata": {
        "id": "88TcG5w1pXBl",
        "colab_type": "code",
        "colab": {}
      },
      "source": [
        "## Analicemos los datos agrupados por sexo y estado por departamento\n",
        "pd.set_option('display.max_rows', 500)\n",
        "group = total.groupby(['DEPARTAMENTO','SEXO','ESTADO'])['ESTADO'].count()\n",
        "print(group)"
      ],
      "execution_count": 0,
      "outputs": []
    }
  ]
}